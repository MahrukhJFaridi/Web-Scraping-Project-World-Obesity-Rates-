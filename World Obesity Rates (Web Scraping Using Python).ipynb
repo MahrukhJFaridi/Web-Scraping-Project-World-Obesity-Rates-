{
 "cells": [
  {
   "cell_type": "code",
   "execution_count": 1,
   "id": "203f2c6c-df54-4171-9e66-892b7d6e85b3",
   "metadata": {},
   "outputs": [],
   "source": [
    "#Web Scraping Project Mahrukh Faridi"
   ]
  },
  {
   "cell_type": "code",
   "execution_count": null,
   "id": "8a6e6b8b-15c2-48d9-85a1-886a873f1b2f",
   "metadata": {},
   "outputs": [],
   "source": [
    "from bs4 import BeautifulSoup\n",
    "import requests\n",
    "import pandas as pd"
   ]
  },
  {
   "cell_type": "code",
   "execution_count": null,
   "id": "2052a048-7cf2-4d0b-b58f-186fe6216d75",
   "metadata": {},
   "outputs": [],
   "source": [
    "url_1='https://data.worldobesity.org/rankings/?age=a&sex=m'\n",
    "url_2='https://data.worldobesity.org/rankings/?age=a&sex=f'\n",
    "\n",
    "page_1=requests.get(url_1)\n",
    "soup_1=BeautifulSoup(page1.text, 'html')\n",
    "\n",
    "page_2 = requests.get(url_2)\n",
    "soup_2 = BeautifulSoup(page_2.text, 'html')\n"
   ]
  },
  {
   "cell_type": "code",
   "execution_count": null,
   "id": "922a6db2-eb77-4322-bc99-0f0705d099fd",
   "metadata": {},
   "outputs": [],
   "source": [
    "#extracting tables\n",
    "table_1= soup_1.find('table', class_ = 'results')\n",
    "table_2= soup_2.find('table', class_ = 'results')"
   ]
  },
  {
   "cell_type": "code",
   "execution_count": null,
   "id": "2f9ed412-1a41-427b-a4ef-3dbe3617e650",
   "metadata": {},
   "outputs": [],
   "source": [
    "#extracting titles\n",
    "titles_1=table_1.find_all('th')\n",
    "titles_2=table_2.find_all('th')"
   ]
  },
  {
   "cell_type": "code",
   "execution_count": null,
   "id": "99614d4e-4f5d-4559-b59d-26c5fcf96a59",
   "metadata": {},
   "outputs": [],
   "source": [
    "#cleaning titles\n",
    "table_titles_1=[title.text.strip() for title in titles_1]\n",
    "table_titles_2=[title.text.strip() for title in titles_2][1:]\n"
   ]
  },
  {
   "cell_type": "code",
   "execution_count": null,
   "id": "39b03f02-bb7d-43d4-8edd-8a877d62fd69",
   "metadata": {},
   "outputs": [],
   "source": [
    "#renaming titles\n",
    "table_titles_1[2]='% Obesity in Males'\n",
    "table_titles_2[1]='% Obesity in Females'"
   ]
  },
  {
   "cell_type": "code",
   "execution_count": null,
   "id": "58172286-95d0-499b-bf67-365ebb58d71a",
   "metadata": {},
   "outputs": [],
   "source": [
    "#creating a dataframe\n",
    "df=pd.DataFrame(columns=table_titles_1)\n",
    "df"
   ]
  },
  {
   "cell_type": "code",
   "execution_count": null,
   "id": "6263fc38-91fe-4f27-b6b0-68079d72bdb1",
   "metadata": {},
   "outputs": [],
   "source": [
    "#extracting row and column data and inserting into the dataframe\n",
    "column_data=table_1.find_all('tr')\n",
    "for row in column_data[1:]:\n",
    "    row_data= row.find_all('td')\n",
    "    sep_row_data=[data.text.strip() for data in row_data]\n",
    "    length = len(df)\n",
    "    df.loc[length] = sep_row_data\n",
    "    "
   ]
  },
  {
   "cell_type": "code",
   "execution_count": null,
   "id": "bdad86f6-edc6-4a20-bbce-17f6274360b5",
   "metadata": {},
   "outputs": [],
   "source": [
    "df"
   ]
  },
  {
   "cell_type": "code",
   "execution_count": null,
   "id": "e23fccfe-2327-4d57-9322-a866a5cfe735",
   "metadata": {},
   "outputs": [],
   "source": [
    "#creating another data frame for obesity in females\n",
    "df2=pd.DataFrame(columns=table_titles_2)"
   ]
  },
  {
   "cell_type": "code",
   "execution_count": null,
   "id": "c7d52852-2688-4a7a-974a-17d48e7813aa",
   "metadata": {},
   "outputs": [],
   "source": [
    "df2"
   ]
  },
  {
   "cell_type": "code",
   "execution_count": null,
   "id": "b6643a52-406b-4015-b447-8497d9adabf1",
   "metadata": {},
   "outputs": [],
   "source": [
    "#extracting row and column data and inserting into dataframe 2\n",
    "column_data=table_2.find_all('tr')\n",
    "for row in column_data[1:]:\n",
    "    row_data= row.find_all('td')\n",
    "    sep_row_data=[data.text.strip() for data in row_data]\n",
    "    length = len(df2)\n",
    "    df2.loc[length] = sep_row_data[1:]\n",
    "    "
   ]
  },
  {
   "cell_type": "code",
   "execution_count": null,
   "id": "4f6fab3f-4e89-47f7-b801-caba667b8fc9",
   "metadata": {},
   "outputs": [],
   "source": [
    "df2"
   ]
  },
  {
   "cell_type": "code",
   "execution_count": null,
   "id": "822eb8bf-634c-434d-9a7f-ef7c70a9caae",
   "metadata": {},
   "outputs": [],
   "source": [
    "#merging dataframe 1 and 2 and resetting index\n",
    "data_frame=df.merge(df2, on='Country')\n",
    "data_frame= data_frame.set_index('#')\n",
    "data_frame"
   ]
  },
  {
   "cell_type": "code",
   "execution_count": null,
   "id": "0657f1e0-889e-471a-b86a-10ecc6d01ff1",
   "metadata": {},
   "outputs": [],
   "source": [
    "data_frame.to_csv(r'C:\\Users\\yasir\\Desktop\\Data Analyst Coursework\\Python\\Python for Data Analysis\\Pandas\\World Obesity Rates.csv', index=False)"
   ]
  },
  {
   "cell_type": "code",
   "execution_count": null,
   "id": "d06aad66-6939-4daf-a46e-a28b969c81b5",
   "metadata": {},
   "outputs": [],
   "source": []
  }
 ],
 "metadata": {
  "kernelspec": {
   "display_name": "Python 3 (ipykernel)",
   "language": "python",
   "name": "python3"
  },
  "language_info": {
   "codemirror_mode": {
    "name": "ipython",
    "version": 3
   },
   "file_extension": ".py",
   "mimetype": "text/x-python",
   "name": "python",
   "nbconvert_exporter": "python",
   "pygments_lexer": "ipython3",
   "version": "3.11.7"
  }
 },
 "nbformat": 4,
 "nbformat_minor": 5
}
